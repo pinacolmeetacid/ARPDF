{
 "cells": [
  {
   "cell_type": "code",
   "execution_count": null,
   "metadata": {},
   "outputs": [],
   "source": [
    "import torch\n",
    "from optimize_ARPDF import ARPDFOptimizer\n",
    "from ARPDF import compute_ARPDF, compare_ARPDF\n",
    "from search_boxes import SimilarityCalculator\n",
    "from collections import Counter\n",
    "import MDAnalysis as mda\n",
    "import utils\n",
    "import matplotlib.pyplot as plt\n",
    "import pandas as pd\n",
    "import numpy as np\n",
    "import cupy  as cp"
   ]
  },
  {
   "cell_type": "code",
   "execution_count": null,
   "metadata": {},
   "outputs": [],
   "source": [
    "X, Y, ARPDF_exp = utils.load_exp_data('data/CCl4', rmax=9.0)\n",
    "#filter_fourier = lambda kX, kY, xp: (1 - xp.exp(-(kX**2 / 0.3 + kY**2 / 0.1)))**3 * xp.exp(-0.08 * (kX**2 + kY**2))\n",
    "filter_fourier = lambda kX, kY, xp: (1 - xp.exp(-(kX**2 / 0.3 + kY**2 / 0.15))) * xp.exp(-0.045 * (kX**2 + kY**2))\n",
    "#filter_fourier = lambda kX, kY, xp: 1\n",
    "dir_name = \"test/structure_555/\"\n",
    "u1 = mda.Universe(f'tmp/{dir_name}/CCl4.gro')\n",
    "u2 = mda.Universe(f'tmp/{dir_name}/CCl4_optimized.gro')\n",
    "modified_atoms = [690,691,692,693,694]\n",
    "polar_axis = [-0.7150240546479941,0.17737067282601887,0.6762249963554939]\n",
    "#u1, u2, modified_atoms, polar_axis = utils.load_structure_data(f'tmp/{dir_name}')\n",
    "ARPDF = compute_ARPDF(u1, u2, cutoff=10.0, N=512, grids_XY=(X, Y), modified_atoms=modified_atoms, \n",
    "                        polar_axis=polar_axis, periodic=True, filter_fourier=filter_fourier, verbose=False)\n",
    "sim_calculator = SimilarityCalculator(X, Y, weight_cutoff=5.0, metric='angular_scale')\n",
    "sim_value = sim_calculator.calc_similarity(ARPDF, ARPDF_exp)\n",
    "fig = compare_ARPDF(ARPDF, ARPDF_exp, (X, Y), sim_name=\"Angular Scale Sim\", sim_value=sim_value, show_range=8.0, weight_cutoff=5.0)"
   ]
  },
  {
   "cell_type": "code",
   "execution_count": null,
   "metadata": {},
   "outputs": [],
   "source": [
    "X, Y, ARPDF_exp = utils.load_exp_data('data/CCl4', rmax=9.0)\n",
    "#filter_fourier = lambda kX, kY, xp: (1 - xp.exp(-(kX**2 / 0.3 + kY**2 / 0.1)))**3 * xp.exp(-0.08 * (kX**2 + kY**2))\n",
    "#filter_fourier = lambda kX, kY, xp: (1 - xp.exp(-(kX**2 / 0.3 + kY**2 / 0.15))) * xp.exp(-0.045 * (kX**2 + kY**2))\n",
    "filter_fourier = lambda kX, kY, xp: 1\n",
    "dir_name = \"test/structure_555/\"\n",
    "u1, u2, modified_atoms, polar_axis = utils.load_structure_data(f'tmp/{dir_name}')\n",
    "ARPDF = compute_ARPDF(u1, u2, cutoff=10.0, N=512, grids_XY=(X, Y), modified_atoms=modified_atoms, \n",
    "                        polar_axis=polar_axis, periodic=True, filter_fourier=filter_fourier, verbose=False)\n",
    "sim_calculator = SimilarityCalculator(X, Y, weight_cutoff=5.0, metric='angular_scale')\n",
    "sim_value = sim_calculator.calc_similarity(ARPDF, ARPDF_exp)\n",
    "fig = compare_ARPDF(ARPDF, ARPDF_exp, (X, Y), sim_name=\"Angular Scale Sim\", sim_value=sim_value, show_range=8.0, weight_cutoff=5.0)"
   ]
  },
  {
   "cell_type": "code",
   "execution_count": null,
   "metadata": {},
   "outputs": [],
   "source": [
    "device = 'cuda' if torch.cuda.is_available() else 'cpu'\n",
    "ARPDF_optimizer = ARPDFOptimizer(\n",
    "    X, Y, ARPDF_exp, Counter(u1.atoms.types), filter_fourier=filter_fourier, cutoff=10.0, sigma0=0.4, weight_cutoff=5.0,\n",
    "    lr=0.015, gamma_lr=0.998, gamma_noise=1, f_lb=-1.0, s=1, beta=0.1, epochs=1500, loss_name=\"angular_scale\", device=device\n",
    ")\n",
    "optimized_atoms = utils.select_nbr_mols(u1, modified_atoms, nbr_distance=None, periodic=True)\n",
    "_types = u1.atoms[optimized_atoms].types\n",
    "_sort_idx = np.argsort(_types)\n",
    "_types = [_types[i] for i in _sort_idx]\n",
    "optimized_atoms = optimized_atoms[_sort_idx]\n",
    "target_cl = modified_atoms[0]\n",
    "optimized_atoms = [i for i in optimized_atoms if i != target_cl] + [target_cl]\n",
    "print(optimized_atoms)\n",
    "def ccl3_sysmetry_norm(ccl4_pos: torch.Tensor):\n",
    "    C = ccl4_pos[[0]]\n",
    "    Cls = ccl4_pos[1:4]\n",
    "    dist_c_cl = torch.linalg.vector_norm(C - Cls, dim=1)\n",
    "    dist_cl_cl = torch.linalg.vector_norm(\n",
    "        torch.stack((Cls[1] - Cls[0], Cls[2] - Cls[0], Cls[2] - Cls[1]), dim=0), \n",
    "        dim=1\n",
    "    )\n",
    "    sysmetry_norm = torch.square(dist_c_cl - dist_c_cl[[1, 2, 0]]).sum() + torch.square(dist_cl_cl - dist_cl_cl[[1, 2, 0]]).sum()\n",
    "    return sysmetry_norm\n",
    "\n",
    "ARPDF_optimizer.set_system(\n",
    "    out_dir=f'tmp/{dir_name}',\n",
    "    u1=u1,\n",
    "    u2=u2,\n",
    "    optimized_atoms=optimized_atoms,\n",
    "    polar_axis=polar_axis,\n",
    "    norm_func=ccl3_sysmetry_norm,\n",
    ")"
   ]
  },
  {
   "cell_type": "code",
   "execution_count": null,
   "metadata": {},
   "outputs": [],
   "source": [
    "ARPDF_optimizer.optimize()"
   ]
  },
  {
   "cell_type": "code",
   "execution_count": null,
   "metadata": {},
   "outputs": [],
   "source": [
    "df = pd.read_csv(f\"tmp/{dir_name}/log.txt\")\n",
    "epochs = df['epoch'].values\n",
    "loss = df['loss'].values\n",
    "normalization = df['Norm'].values\n",
    "line1, = plt.plot(epochs, loss, label='Loss')\n",
    "plt.xlabel('Epoch')\n",
    "plt.twinx()\n",
    "line2, = plt.plot(epochs, normalization, label='Norm', color='red')\n",
    "plt.ylabel('Cosine Similarity')\n",
    "plt.legend([line1, line2], ['Loss', 'Norm'], loc='upper right')\n",
    "plt.title('Optimization Progress')\n",
    "plt.show()"
   ]
  },
  {
   "cell_type": "code",
   "execution_count": null,
   "metadata": {},
   "outputs": [],
   "source": [
    "u1, u2, modified_atoms, polar_axis = utils.load_structure_data(f'tmp/{dir_name}')\n",
    "polar_axis = np.array(polar_axis)\n",
    "polar_axis /= np.linalg.norm(polar_axis)\n",
    "# u2 = mda.Universe('tmp/cos_sim/CCl4_best_init.gro')\n",
    "trajs = np.load(f\"tmp/{dir_name}/traj.npy\")[::5]\n",
    "\n",
    "def rotation_matrix(v1, v2):\n",
    "    u = v1 - v2\n",
    "    if np.linalg.norm(u) < 1e-8:\n",
    "        return np.eye(3)\n",
    "    u /= np.linalg.norm(u)\n",
    "    return np.eye(3) - 2 * np.outer(u, u)\n",
    "\n",
    "R = rotation_matrix(polar_axis, np.array([0., 0., 1.]))\n",
    "u2_copy = u2.copy()\n",
    "center_group = u2_copy.atoms[optimized_atoms]\n",
    "_center = center_group[0].position[None, :]\n",
    "around_group = u2_copy.select_atoms(\"around 6.0 group center\", center = center_group, periodic=True)\n",
    "center_group.positions = utils.box_shift(center_group.positions - _center, u2_copy.dimensions) @ R.T\n",
    "around_group.positions = utils.box_shift(around_group.positions - _center, u2_copy.dimensions) @ R.T\n",
    "trajs = utils.box_shift(trajs - _center[None, :, :], u2_copy.dimensions) @ R.T\n",
    "full_trajs = np.zeros((trajs.shape[0], center_group.n_atoms + around_group.n_atoms, 3))\n",
    "full_trajs[:, :center_group.n_atoms, :] = trajs\n",
    "full_trajs[:, center_group.n_atoms:, :] = around_group.positions[None, :, :]\n",
    "u_new = mda.Merge(center_group, around_group)\n",
    "u_new.load_new(full_trajs[1:], format=\"memory\", dt=1.0)\n",
    "# print(around_group.positions[:5])\n",
    "with mda.Writer(f\"tmp/{dir_name}/traj.xyz\", center_group.n_atoms + around_group.n_atoms) as W:\n",
    "    for ts in u_new.trajectory:\n",
    "        W.write(u_new.atoms)"
   ]
  }
 ],
 "metadata": {
  "kernelspec": {
   "display_name": "arpdf",
   "language": "python",
   "name": "python3"
  },
  "language_info": {
   "codemirror_mode": {
    "name": "ipython",
    "version": 3
   },
   "file_extension": ".py",
   "mimetype": "text/x-python",
   "name": "python",
   "nbconvert_exporter": "python",
   "pygments_lexer": "ipython3",
   "version": "3.12.9"
  }
 },
 "nbformat": 4,
 "nbformat_minor": 2
}
