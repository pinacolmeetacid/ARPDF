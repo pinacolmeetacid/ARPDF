{
 "cells": [
  {
   "cell_type": "code",
   "execution_count": 1,
   "metadata": {},
   "outputs": [
    {
     "name": "stderr",
     "output_type": "stream",
     "text": [
      "/opt/mamba/envs/arpdf/lib/python3.12/site-packages/tqdm/auto.py:21: TqdmWarning: IProgress not found. Please update jupyter and ipywidgets. See https://ipywidgets.readthedocs.io/en/stable/user_install.html\n",
      "  from .autonotebook import tqdm as notebook_tqdm\n",
      "/opt/mamba/envs/arpdf/lib/python3.12/site-packages/Bio/Application/__init__.py:39: BiopythonDeprecationWarning: The Bio.Application modules and modules relying on it have been deprecated.\n",
      "\n",
      "Due to the on going maintenance burden of keeping command line application\n",
      "wrappers up to date, we have decided to deprecate and eventually remove these\n",
      "modules.\n",
      "\n",
      "We instead now recommend building your command line and invoking it directly\n",
      "with the subprocess module.\n",
      "  warnings.warn(\n"
     ]
    }
   ],
   "source": [
    "import torch\n",
    "from optimize_ARPDF import ARPDFOptimizer\n",
    "from ARPDF import compute_ARPDF, compare_ARPDF\n",
    "# from search_boxes import SimilarityCalculator\n",
    "from collections import Counter\n",
    "import MDAnalysis as mda\n",
    "import utils\n",
    "import matplotlib.pyplot as plt\n",
    "import pandas as pd\n",
    "import numpy as np"
   ]
  },
  {
   "cell_type": "code",
   "execution_count": 2,
   "metadata": {},
   "outputs": [
    {
     "ename": "FileNotFoundError",
     "evalue": "[Errno 2] No such file or directory: 'tmp/test/metadata.json'",
     "output_type": "error",
     "traceback": [
      "\u001b[31m---------------------------------------------------------------------------\u001b[39m",
      "\u001b[31mFileNotFoundError\u001b[39m                         Traceback (most recent call last)",
      "\u001b[36mCell\u001b[39m\u001b[36m \u001b[39m\u001b[32mIn[2]\u001b[39m\u001b[32m, line 4\u001b[39m\n\u001b[32m      2\u001b[39m filter_fourier = \u001b[38;5;28;01mlambda\u001b[39;00m kX, kY, xp: (\u001b[32m1\u001b[39m - xp.exp(-(kX**\u001b[32m2\u001b[39m / \u001b[32m0.3\u001b[39m + kY**\u001b[32m2\u001b[39m / \u001b[32m0.1\u001b[39m)))**\u001b[32m3\u001b[39m * xp.exp(-\u001b[32m0.08\u001b[39m * (kX**\u001b[32m2\u001b[39m + kY**\u001b[32m2\u001b[39m))\n\u001b[32m      3\u001b[39m dir_name = \u001b[33m\"\u001b[39m\u001b[33mtest\u001b[39m\u001b[33m\"\u001b[39m\n\u001b[32m----> \u001b[39m\u001b[32m4\u001b[39m u1, u2, modified_atoms, polar_axis = \u001b[43mutils\u001b[49m\u001b[43m.\u001b[49m\u001b[43mload_structure_data\u001b[49m\u001b[43m(\u001b[49m\u001b[33;43mf\u001b[39;49m\u001b[33;43m'\u001b[39;49m\u001b[33;43mtmp/\u001b[39;49m\u001b[38;5;132;43;01m{\u001b[39;49;00m\u001b[43mdir_name\u001b[49m\u001b[38;5;132;43;01m}\u001b[39;49;00m\u001b[33;43m'\u001b[39;49m\u001b[43m)\u001b[49m\n\u001b[32m      5\u001b[39m ARPDF = compute_ARPDF(u1, u2, cutoff=\u001b[32m10.0\u001b[39m, N=\u001b[32m512\u001b[39m, grids_XY=(X, Y), modified_atoms=modified_atoms, \n\u001b[32m      6\u001b[39m                         polar_axis=polar_axis, periodic=\u001b[38;5;28;01mTrue\u001b[39;00m, filter_fourier=filter_fourier, verbose=\u001b[38;5;28;01mFalse\u001b[39;00m)\n\u001b[32m      7\u001b[39m sim_calculator = SimilarityCalculator(X, Y, weight_cutoff=\u001b[32m5.0\u001b[39m, metric=\u001b[33m'\u001b[39m\u001b[33mangular_scale\u001b[39m\u001b[33m'\u001b[39m)\n",
      "\u001b[36mFile \u001b[39m\u001b[32m/share/ARPDF/utils/utils.py:276\u001b[39m, in \u001b[36mload_structure_data\u001b[39m\u001b[34m(data_dir)\u001b[39m\n\u001b[32m    250\u001b[39m \u001b[38;5;28;01mdef\u001b[39;00m\u001b[38;5;250m \u001b[39m\u001b[34mload_structure_data\u001b[39m(data_dir: \u001b[38;5;28mstr\u001b[39m):\n\u001b[32m    251\u001b[39m \u001b[38;5;250m    \u001b[39m\u001b[33;03m\"\"\"\u001b[39;00m\n\u001b[32m    252\u001b[39m \u001b[33;03m    Load structure data from a directory.\u001b[39;00m\n\u001b[32m    253\u001b[39m \u001b[33;03m    The directory should contain a metadata file \"metadata.json\".\u001b[39;00m\n\u001b[32m   (...)\u001b[39m\u001b[32m    274\u001b[39m \u001b[33;03m    polar_axis: list of float\u001b[39;00m\n\u001b[32m    275\u001b[39m \u001b[33;03m    \"\"\"\u001b[39;00m\n\u001b[32m--> \u001b[39m\u001b[32m276\u001b[39m     \u001b[38;5;28;01mwith\u001b[39;00m \u001b[38;5;28;43mopen\u001b[39;49m\u001b[43m(\u001b[49m\u001b[43mos\u001b[49m\u001b[43m.\u001b[49m\u001b[43mpath\u001b[49m\u001b[43m.\u001b[49m\u001b[43mjoin\u001b[49m\u001b[43m(\u001b[49m\u001b[43mdata_dir\u001b[49m\u001b[43m,\u001b[49m\u001b[43m \u001b[49m\u001b[33;43m\"\u001b[39;49m\u001b[33;43mmetadata.json\u001b[39;49m\u001b[33;43m\"\u001b[39;49m\u001b[43m)\u001b[49m\u001b[43m,\u001b[49m\u001b[43m \u001b[49m\u001b[33;43m\"\u001b[39;49m\u001b[33;43mr\u001b[39;49m\u001b[33;43m\"\u001b[39;49m\u001b[43m)\u001b[49m \u001b[38;5;28;01mas\u001b[39;00m f:\n\u001b[32m    277\u001b[39m         structure_info = json.load(f)[\u001b[33m\"\u001b[39m\u001b[33mstructure_info\u001b[39m\u001b[33m\"\u001b[39m]\n\u001b[32m    278\u001b[39m     u1 = mda.Universe(os.path.join(data_dir, structure_info[\u001b[33m\"\u001b[39m\u001b[33mu1_name\u001b[39m\u001b[33m\"\u001b[39m]))\n",
      "\u001b[31mFileNotFoundError\u001b[39m: [Errno 2] No such file or directory: 'tmp/test/metadata.json'"
     ]
    }
   ],
   "source": [
    "X, Y, ARPDF_exp = utils.load_exp_data('data/CCl4', rmax=9.0)\n",
    "filter_fourier = lambda kX, kY, xp: (1 - xp.exp(-(kX**2 / 0.3 + kY**2 / 0.1)))**3 * xp.exp(-0.08 * (kX**2 + kY**2))\n",
    "dir_name = \"test\"\n",
    "u1, u2, modified_atoms, polar_axis = utils.load_structure_data(f'tmp/{dir_name}')\n",
    "ARPDF = compute_ARPDF(u1, u2, cutoff=10.0, N=512, grids_XY=(X, Y), modified_atoms=modified_atoms, \n",
    "                        polar_axis=polar_axis, periodic=True, filter_fourier=filter_fourier, verbose=False)\n",
    "# sim_calculator = SimilarityCalculator(X, Y, weight_cutoff=5.0, metric='angular_scale')\n",
    "# sim_value = sim_calculator.calc_similarity(ARPDF, ARPDF_exp)\n",
    "# fig = compare_ARPDF(ARPDF, ARPDF_exp, (X, Y), sim_name=\"Angular Scale Sim\", sim_value=sim_value, show_range=8.0, weight_cutoff=5.0)"
   ]
  },
  {
   "cell_type": "code",
   "execution_count": null,
   "metadata": {},
   "outputs": [],
   "source": [
    "device = 'cuda' if torch.cuda.is_available() else 'cpu'\n",
    "ARPDF_optimizer = ARPDFOptimizer(\n",
    "    X, Y, ARPDF_exp, Counter(u1.atoms.types), filter_fourier=filter_fourier, cutoff=10.0, sigma0=0.4, weight_cutoff=5.0,\n",
    "    lr=0.02, gamma=0.995, f_lb=-1.0, s=0.0, beta=0.1, epochs=100, loss_name=\"angular_scale\", device=device\n",
    ")\n",
    "optimized_atoms = utils.select_nbr_mols(u1, modified_atoms, nbr_distance=None, periodic=True)\n",
    "_types = u1.atoms[optimized_atoms].types\n",
    "_sort_idx = np.argsort(_types)\n",
    "_types = [_types[i] for i in _sort_idx]\n",
    "optimized_atoms = optimized_atoms[_sort_idx]\n",
    "target_cl = modified_atoms[0]\n",
    "optimized_atoms = [i for i in optimized_atoms if i != target_cl] + [target_cl]\n",
    "print(optimized_atoms)\n",
    "def ccl3_sysmetry_norm(ccl4_pos: torch.Tensor):\n",
    "    C = ccl4_pos[[0]]\n",
    "    Cls = ccl4_pos[1:4]\n",
    "    dist_c_cl = torch.linalg.vector_norm(C - Cls, dim=1)\n",
    "    dist_cl_cl = torch.linalg.vector_norm(\n",
    "        torch.stack((Cls[1] - Cls[0], Cls[2] - Cls[0], Cls[2] - Cls[1]), dim=0), \n",
    "        dim=1\n",
    "    )\n",
    "    sysmetry_norm = torch.square(dist_c_cl - dist_c_cl[[1, 2, 0]]).sum() + torch.square(dist_cl_cl - dist_cl_cl[[1, 2, 0]]).sum()\n",
    "    return sysmetry_norm\n",
    "\n",
    "ARPDF_optimizer.set_system(\n",
    "    out_dir=f'tmp/{dir_name}',\n",
    "    u1=u1,\n",
    "    u2=u2,\n",
    "    optimized_atoms=optimized_atoms,\n",
    "    polar_axis=polar_axis,\n",
    "    norm_func=ccl3_sysmetry_norm,\n",
    ")"
   ]
  },
  {
   "cell_type": "code",
   "execution_count": null,
   "metadata": {},
   "outputs": [],
   "source": [
    "ARPDF_optimizer.optimize()"
   ]
  },
  {
   "cell_type": "code",
   "execution_count": null,
   "metadata": {},
   "outputs": [],
   "source": [
    "df = pd.read_csv(f\"tmp/{dir_name}/log.txt\")\n",
    "epochs = df['epoch'].values\n",
    "loss = df['loss'].values\n",
    "normalization = df['Norm'].values\n",
    "line1, = plt.plot(epochs, loss, label='Loss')\n",
    "plt.xlabel('Epoch')\n",
    "plt.twinx()\n",
    "line2, = plt.plot(epochs, normalization, label='Norm', color='red')\n",
    "plt.ylabel('Cosine Similarity')\n",
    "plt.legend([line1, line2], ['Loss', 'Norm'], loc='upper right')\n",
    "plt.title('Optimization Progress')\n",
    "plt.show()"
   ]
  },
  {
   "cell_type": "code",
   "execution_count": null,
   "metadata": {},
   "outputs": [],
   "source": [
    "u1, u2, modified_atoms, polar_axis = utils.load_structure_data(f'tmp/{dir_name}')\n",
    "polar_axis = np.array(polar_axis)\n",
    "polar_axis /= np.linalg.norm(polar_axis)\n",
    "# u2 = mda.Universe('tmp/cos_sim/CCl4_best_init.gro')\n",
    "trajs = np.load(f\"tmp/{dir_name}/traj.npy\")[::5]\n",
    "\n",
    "def rotation_matrix(v1, v2):\n",
    "    u = v1 - v2\n",
    "    if np.linalg.norm(u) < 1e-8:\n",
    "        return np.eye(3)\n",
    "    u /= np.linalg.norm(u)\n",
    "    return np.eye(3) - 2 * np.outer(u, u)\n",
    "\n",
    "R = rotation_matrix(polar_axis, np.array([0., 0., 1.]))\n",
    "center_group = u2.atoms[optimized_atoms]\n",
    "_center = center_group[0].position[None, :]\n",
    "around_group = u2.select_atoms(\"around 6.0 group center\", center = center_group, periodic=True)\n",
    "center_group.positions = utils.box_shift(center_group.positions - _center, u2.dimensions) @ R.T\n",
    "around_group.positions = utils.box_shift(around_group.positions - _center, u2.dimensions) @ R.T\n",
    "trajs = utils.box_shift(trajs - _center[None, :, :], u2.dimensions) @ R.T\n",
    "full_trajs = np.zeros((trajs.shape[0], center_group.n_atoms + around_group.n_atoms, 3))\n",
    "full_trajs[:, :center_group.n_atoms, :] = trajs\n",
    "full_trajs[:, center_group.n_atoms:, :] = around_group.positions[None, :, :]\n",
    "u_new = mda.Merge(center_group, around_group)\n",
    "u_new.load_new(full_trajs[1:], format=\"memory\", dt=1.0)\n",
    "# print(around_group.positions[:5])\n",
    "with mda.Writer(f\"tmp/{dir_name}/traj.xyz\", center_group.n_atoms + around_group.n_atoms) as W:\n",
    "    for ts in u_new.trajectory:\n",
    "        W.write(u_new.atoms)"
   ]
  }
 ],
 "metadata": {
  "kernelspec": {
   "display_name": "arpdf",
   "language": "python",
   "name": "python3"
  },
  "language_info": {
   "codemirror_mode": {
    "name": "ipython",
    "version": 3
   },
   "file_extension": ".py",
   "mimetype": "text/x-python",
   "name": "python",
   "nbconvert_exporter": "python",
   "pygments_lexer": "ipython3",
   "version": "3.12.8"
  }
 },
 "nbformat": 4,
 "nbformat_minor": 2
}
