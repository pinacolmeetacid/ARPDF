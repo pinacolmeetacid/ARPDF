{
 "cells": [
  {
   "cell_type": "code",
   "execution_count": null,
   "metadata": {},
   "outputs": [],
   "source": [
    "import torch\n",
    "from optimize_ARPDF import ARPDFModel, ARPDFOptimizer\n",
    "from collections import Counter\n",
    "import MDAnalysis as mda\n",
    "import utils\n",
    "import json\n",
    "import matplotlib.pyplot as plt\n",
    "import pandas as pd\n",
    "import numpy as np"
   ]
  },
  {
   "cell_type": "code",
   "execution_count": null,
   "metadata": {},
   "outputs": [],
   "source": [
    "X, Y, ARPDF_exp = utils.load_exp_data('data/CCl4', rmax=9.0)\n",
    "u0 = mda.Universe('data/CCl4/CCl4.gro')\n",
    "filter_fourier = lambda kX, kY, xp: (1 - xp.exp(-(kX**2 / 0.3 + kY**2 / 0.1)))**3 * xp.exp(-0.08 * (kX**2 + kY**2))\n",
    "dir_name = \"circ_sim_wc_6\"\n",
    "device = torch.device('cuda')\n",
    "ARPDF_optimizer = ARPDFOptimizer(\n",
    "    X, Y, ARPDF_exp, Counter(u0.atoms.types), filter_fourier=filter_fourier, cutoff=10.0, \n",
    "    lr=0.01, gamma=0.995, f_lb=-0.9, s=0.0, beta=0.0, epochs=500, device=device\n",
    ")\n",
    "ARPDF_optimizer.set_system(cur_dir=f'tmp/{dir_name}')"
   ]
  },
  {
   "cell_type": "code",
   "execution_count": null,
   "metadata": {},
   "outputs": [],
   "source": [
    "# print(json.dumps({k: str(type(v)) for k, v in ARPDF_optimizer.__dict__.items()}, indent=4))\n",
    "# print(json.dumps({k: str(type(v)) for k, v in ARPDF_optimizer.model.__dict__.items()}, indent=4))"
   ]
  },
  {
   "cell_type": "code",
   "execution_count": null,
   "metadata": {},
   "outputs": [],
   "source": [
    "ARPDF_optimizer.optimize()"
   ]
  },
  {
   "cell_type": "code",
   "execution_count": null,
   "metadata": {},
   "outputs": [],
   "source": [
    "df = pd.read_csv(f\"tmp/{dir_name}/log.txt\")\n",
    "epochs = df['epoch'].values\n",
    "loss = df['loss'].values\n",
    "cos_sim = df['cos_sim'].values\n",
    "line1, = plt.plot(epochs, loss, label='Loss')\n",
    "plt.xlabel('Epoch')\n",
    "plt.twinx()\n",
    "line2, = plt.plot(epochs, cos_sim, label='Cosine Similarity', color='red')\n",
    "plt.ylabel('Cosine Similarity')\n",
    "plt.legend([line1, line2], ['Loss', 'Cosine Similarity'], loc='upper right')\n",
    "plt.title('Optimization Progress')\n",
    "plt.show()"
   ]
  },
  {
   "cell_type": "code",
   "execution_count": null,
   "metadata": {},
   "outputs": [],
   "source": [
    "u1, u2, modified_atoms, polar_axis = utils.load_structure_data(f'tmp/{dir_name}')\n",
    "polar_axis = np.array(polar_axis)\n",
    "polar_axis /= np.linalg.norm(polar_axis)\n",
    "# u2 = mda.Universe('tmp/cos_sim/CCl4_best_init.gro')\n",
    "trajs = np.load(f\"tmp/{dir_name}/traj.npy\")[::5]\n",
    "\n",
    "def rotation_matrix(v1, v2):\n",
    "    u = v1 - v2\n",
    "    if np.linalg.norm(u) < 1e-8:\n",
    "        return np.eye(3)\n",
    "    u /= np.linalg.norm(u)\n",
    "    return np.eye(3) - 2 * np.outer(u, u)\n",
    "\n",
    "R = rotation_matrix(polar_axis, np.array([0., 0., 1.]))\n",
    "center_group = u2.atoms[modified_atoms]\n",
    "_center = center_group[0].position[None, :]\n",
    "around_group = u2.select_atoms(\"around 6.0 group center\", center = center_group, periodic=True)\n",
    "center_group.positions = utils.box_shift(center_group.positions - _center, u2.dimensions) @ R.T\n",
    "around_group.positions = utils.box_shift(around_group.positions - _center, u2.dimensions) @ R.T\n",
    "trajs = utils.box_shift(trajs - _center[None, :, :], u2.dimensions) @ R.T\n",
    "full_trajs = np.zeros((trajs.shape[0], center_group.n_atoms + around_group.n_atoms, 3))\n",
    "full_trajs[:, :center_group.n_atoms, :] = trajs\n",
    "full_trajs[:, center_group.n_atoms:, :] = around_group.positions[None, :, :]\n",
    "u_new = mda.Merge(center_group, around_group)\n",
    "u_new.load_new(full_trajs[1:], format=\"memory\", dt=1.0)\n",
    "# print(around_group.positions[:5])\n",
    "with mda.Writer(f\"tmp/{dir_name}/traj.xyz\", center_group.n_atoms + around_group.n_atoms) as W:\n",
    "    for ts in u_new.trajectory:\n",
    "        W.write(u_new.atoms)"
   ]
  }
 ],
 "metadata": {
  "kernelspec": {
   "display_name": "torch_env",
   "language": "python",
   "name": "python3"
  },
  "language_info": {
   "codemirror_mode": {
    "name": "ipython",
    "version": 3
   },
   "file_extension": ".py",
   "mimetype": "text/x-python",
   "name": "python",
   "nbconvert_exporter": "python",
   "pygments_lexer": "ipython3",
   "version": "3.12.9"
  }
 },
 "nbformat": 4,
 "nbformat_minor": 2
}
