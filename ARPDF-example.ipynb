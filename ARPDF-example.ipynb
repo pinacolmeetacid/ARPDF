{
 "cells": [
  {
   "cell_type": "code",
   "execution_count": null,
   "metadata": {},
   "outputs": [],
   "source": [
    "%matplotlib inline"
   ]
  },
  {
   "cell_type": "code",
   "execution_count": null,
   "metadata": {},
   "outputs": [],
   "source": [
    "import MDAnalysis as mda\n",
    "import ARPDF, utils\n",
    "import importlib\n",
    "import matplotlib.pyplot as plt\n",
    "\n",
    "importlib.reload(ARPDF)\n",
    "importlib.reload(utils)\n",
    "from ARPDF import *\n",
    "from ARPDF_POLAR import compute_ARPDF_polar\n",
    "from utils import generate_grids_polar"
   ]
  },
  {
   "cell_type": "code",
   "execution_count": null,
   "metadata": {},
   "outputs": [],
   "source": [
    "# u1 = mda.Universe('data/CCl4/CCl4.gro')\n",
    "# u2 = mda.Universe('data/CCl4/CCl4_modified.gro')\n",
    "# modified_atoms = [515, 516, 517, 518, 519, 645]\n",
    "# polar_axis = [0.85692924,0.47545751,0.19902873]\n",
    "# ori_range = 9.924650203173275\n",
    "# X, Y, ARPDF_exp = utils.preprocess_ARPDF(np.load(\"data/CCl4/ARPDF_exp.npy\"), ori_range, rmax=9.0)\n",
    "X, Y, ARPDF_exp = utils.load_exp_data('data/CCl4', rmax=9.0)\n",
    "u1, u2, modified_atoms, polar_axis = utils.load_structure_data('data/CCl4')\n",
    "filter_fourier = lambda kX, kY, xp: (1 - xp.exp(-(kX**2 / 0.1 + kY**2 / 0.3)))**3 * xp.exp(-0.08 * (kX**2 + kY**2))"
   ]
  },
  {
   "cell_type": "code",
   "execution_count": null,
   "metadata": {},
   "outputs": [],
   "source": [
    "ARPDF = compute_ARPDF(u1, u2, cutoff=13.0, N=512, grids_XY=(X, Y), modified_atoms=modified_atoms, \n",
    "                        polar_axis=polar_axis, periodic=True, filter_fourier=filter_fourier, verbose=True)"
   ]
  },
  {
   "cell_type": "code",
   "execution_count": null,
   "metadata": {},
   "outputs": [],
   "source": [
    "fig = compare_ARPDF(ARPDF, ARPDF_exp, (X, Y), show_range=8.0)\n",
    "fig.savefig(\"tmp/ARPDF_example.png\")"
   ]
  },
  {
   "cell_type": "code",
   "execution_count": null,
   "metadata": {},
   "outputs": [],
   "source": [
    "pos1 = u1.atoms[modified_atoms].positions\n",
    "pos2 = u2.atoms[modified_atoms].positions\n",
    "_u2 = u2.copy()\n",
    "ARPDFs = []\n",
    "for i, t in enumerate(np.linspace(0, 1, 20)):\n",
    "    _u2.atoms[modified_atoms].positions = pos1 * (1 - t) + pos2 * t\n",
    "    ARPDFs.append(compute_ARPDF(u1, _u2, cutoff=10.0, N=512, modified_atoms=modified_atoms, polar_axis=polar_axis, periodic=True, \n",
    "                                filter_fourier=filter_fourier, verbose=False))\n"
   ]
  },
  {
   "cell_type": "code",
   "execution_count": null,
   "metadata": {},
   "outputs": [],
   "source": [
    "from matplotlib import pyplot as plt, animation\n",
    "# 创建画布和初始图像\n",
    "fig, ax = plt.subplots(figsize=(5, 5))\n",
    "im = ax.imshow(ARPDFs[0], origin=\"lower\", cmap=\"bwr\", extent=[-10, 10, -10, 10])\n",
    "ax.set_xlabel(\"X-axis\")\n",
    "ax.set_ylabel(\"Y-axis\")\n",
    "ax.set_title(\"ARPDF\")\n",
    "ax.set_xlim(-8, 8)\n",
    "ax.set_ylim(-8, 8)\n",
    "im.set_clim(-0.5, 0.5)\n",
    "fig.colorbar(im, ax=ax)"
   ]
  },
  {
   "cell_type": "code",
   "execution_count": null,
   "metadata": {},
   "outputs": [],
   "source": [
    "\n",
    "# 更新函数：用于更新每一帧的图像\n",
    "def update(frame):\n",
    "    im.set_array(ARPDFs[frame])\n",
    "    return [im]\n",
    "\n",
    "# 创建动画 (frames 指定帧数, interval 控制帧间隔时间)\n",
    "ani = animation.FuncAnimation(fig, update, frames=len(ARPDFs), interval=100, blit=True)\n",
    "\n",
    "# 显示动画 (仅在 Jupyter Notebook 中运行)\n",
    "from IPython.display import HTML\n",
    "HTML(ani.to_jshtml())"
   ]
  },
  {
   "cell_type": "code",
   "execution_count": null,
   "metadata": {},
   "outputs": [],
   "source": [
    "ani.save(\"tmp/ARPDF.gif\", writer=\"pillow\", fps=10)"
   ]
  },
  {
   "cell_type": "code",
   "execution_count": null,
   "metadata": {},
   "outputs": [],
   "source": [
    "\n",
    "R, phi = generate_grids_polar((0,10),(0,0.5*np.pi),128,180)\n",
    "ARPDF_ref = compute_ARPDF_polar(u1, u2, N=512, cutoff=9.0, sigma0=0.1, delta=0.2, grids_polar=(R, phi), modified_atoms=modified_atoms, \n",
    "                        polar_axis=polar_axis, periodic=True, filter_fourier=filter_fourier, verbose=True, neg=False)"
   ]
  },
  {
   "cell_type": "code",
   "execution_count": null,
   "metadata": {},
   "outputs": [],
   "source": [
    "import time\n",
    "\n",
    "X, Y = to_cupy(generate_grids(10, N=512))\n",
    "n_repeat = 500\n",
    "start_time = time.time()\n",
    "for _ in range(n_repeat):\n",
    "    _ = compute_ARPDF(u1, u2, cutoff=13.0, N=512, grids_XY=(X, Y), modified_atoms=modified_atoms, \n",
    "                      polar_axis=polar_axis, periodic=True, filter_fourier=filter_fourier, verbose=False)\n",
    "end_time = time.time()\n",
    "\n",
    "print(f\"compute_ARPDF average calculation time: {(end_time - start_time)/n_repeat:.4f} seconds per run\")"
   ]
  },
  {
   "cell_type": "code",
   "execution_count": null,
   "metadata": {},
   "outputs": [],
   "source": [
    "R, phi = generate_grids_polar((0,10),(0,0.5*np.pi),128,180)\n",
    "n_repeat = 500\n",
    "start_time = time.time()\n",
    "for _ in range(n_repeat):\n",
    "    _ = compute_ARPDF_polar(u1, u2, N=512, cutoff=9.0, sigma0=0.1, delta=0.2, grids_polar=(R, phi), modified_atoms=modified_atoms, \n",
    "                        polar_axis=polar_axis, periodic=True, filter_fourier=filter_fourier, verbose=False, neg=False)\n",
    "end_time = time.time()\n",
    "\n",
    "print(f\"compute_ARPDF_polar average calculation time: {(end_time - start_time)/n_repeat:.4f} seconds per run\")"
   ]
  }
 ],
 "metadata": {
  "kernelspec": {
   "display_name": "arpdf",
   "language": "python",
   "name": "python3"
  },
  "language_info": {
   "codemirror_mode": {
    "name": "ipython",
    "version": 3
   },
   "file_extension": ".py",
   "mimetype": "text/x-python",
   "name": "python",
   "nbconvert_exporter": "python",
   "pygments_lexer": "ipython3",
   "version": "3.12.9"
  }
 },
 "nbformat": 4,
 "nbformat_minor": 2
}
