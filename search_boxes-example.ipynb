{
 "cells": [
  {
   "cell_type": "code",
   "execution_count": null,
   "metadata": {},
   "outputs": [],
   "source": [
    "import numpy as np\n",
    "import search_boxes\n",
    "import ARPDF\n",
    "import utils\n",
    "import importlib\n",
    "\n",
    "importlib.reload(search_boxes)\n",
    "importlib.reload(ARPDF)\n",
    "importlib.reload(utils)\n",
    "from search_boxes import workflow_demo\n",
    "from ARPDF import *\n",
    "from utils import *"
   ]
  },
  {
   "cell_type": "code",
   "execution_count": 2,
   "metadata": {},
   "outputs": [],
   "source": [
    "X, Y, ARPDF_ref = load_exp_data(\"data/CCl4\", rmax=9.0)\n",
    "sigma0 = 0.4\n",
    "filter_fourier = lambda kX, kY, xp: (1 - xp.exp(-(kX**2 / 0.3 + kY**2 / 0.1)))**3 * xp.exp(-0.08 * (kX**2 + kY**2))"
   ]
  },
  {
   "cell_type": "code",
   "execution_count": null,
   "metadata": {},
   "outputs": [],
   "source": [
    "workflow_demo(\n",
    "    X, Y, ARPDF_ref, \n",
    "    filter_fourier, \n",
    "    sigma0,\n",
    "    exp_name=\"test\",\n",
    "    metric=\"angular_scale\", \n",
    "    weight_cutoff=5.0,\n",
    "    stretch_distances=None, \n",
    "    neg=False\n",
    ")"
   ]
  }
 ],
 "metadata": {
  "kernelspec": {
   "display_name": "arpdf",
   "language": "python",
   "name": "python3"
  },
  "language_info": {
   "codemirror_mode": {
    "name": "ipython",
    "version": 3
   },
   "file_extension": ".py",
   "mimetype": "text/x-python",
   "name": "python",
   "nbconvert_exporter": "python",
   "pygments_lexer": "ipython3",
   "version": "3.12.9"
  }
 },
 "nbformat": 4,
 "nbformat_minor": 2
}
