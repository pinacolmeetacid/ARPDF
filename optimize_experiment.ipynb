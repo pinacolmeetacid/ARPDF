{
 "cells": [
  {
   "cell_type": "code",
   "execution_count": null,
   "id": "1fe4f030",
   "metadata": {},
   "outputs": [],
   "source": [
    "import MDAnalysis as mda\n",
    "import ARPDF, utils, search_boxes\n",
    "import importlib\n",
    "import matplotlib.pyplot as plt\n",
    "import torch\n",
    "from optimize_ARPDF import ARPDFOptimizer\n",
    "import pandas as pd\n",
    "\n",
    "\n",
    "importlib.reload(search_boxes)\n",
    "importlib.reload(ARPDF)\n",
    "importlib.reload(utils)\n",
    "from ARPDF import *\n",
    "from utils import *\n",
    "from search_boxes import workflow_demo"
   ]
  },
  {
   "cell_type": "code",
   "execution_count": null,
   "id": "5a0a1c53",
   "metadata": {},
   "outputs": [],
   "source": [
    "X, Y, ARPDF_exp = utils.load_exp_data('data/CCl4', rmax=9.0)\n",
    "print(X)"
   ]
  },
  {
   "cell_type": "code",
   "execution_count": null,
   "id": "96bb7e4b",
   "metadata": {},
   "outputs": [],
   "source": [
    "X, Y, ARPDF_exp = utils.load_exp_data('data/CCl4', rmax=9.0)\n",
    "filter_fourier = lambda kX, kY, xp: (1 - xp.exp(-(kX**2 / 0.3 + kY**2 / 0.15))) * xp.exp(-0.045 * (kX**2 + kY**2))\n",
    "#filter_fourier = lambda kX, kY, xp: xp.ones_like(kX)\n",
    "\n",
    "sigma0 = 0.4\n",
    "neg = False\n",
    "print(f\"sigma0 = {sigma0}\")"
   ]
  },
  {
   "cell_type": "code",
   "execution_count": null,
   "id": "3667aaa8",
   "metadata": {},
   "outputs": [],
   "source": [
    "ARPDF_ref = ARPDF_exp"
   ]
  },
  {
   "cell_type": "code",
   "execution_count": null,
   "id": "ac9c6b91",
   "metadata": {},
   "outputs": [],
   "source": [
    "workflow_demo(\n",
    "    X, Y, ARPDF_ref,\n",
    "    filter_fourier, \n",
    "    sigma0,  \n",
    "    exp_name=\"exp_experiment_precise_angular_scale_3nm_cutoff_5\", \n",
    "    metric=\"angular_scale\", \n",
    "    stretch_distances=[round(1.0 + 0.1 * i, 1) for i in range(15)], \n",
    "    weight_cutoff=5.0, \n",
    "    neg=neg\n",
    ")"
   ]
  }
 ],
 "metadata": {
  "kernelspec": {
   "display_name": "arpdf",
   "language": "python",
   "name": "python3"
  },
  "language_info": {
   "codemirror_mode": {
    "name": "ipython",
    "version": 3
   },
   "file_extension": ".py",
   "mimetype": "text/x-python",
   "name": "python",
   "nbconvert_exporter": "python",
   "pygments_lexer": "ipython3",
   "version": "3.12.9"
  }
 },
 "nbformat": 4,
 "nbformat_minor": 5
}
