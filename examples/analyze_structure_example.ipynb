{
 "cells": [
  {
   "cell_type": "markdown",
   "metadata": {},
   "source": [
    "# 分子结构分析示例\n",
    "\n",
    "这个notebook展示了如何使用`analyze_structure`中的函数来分析分子结构。"
   ]
  },
  {
   "cell_type": "code",
   "execution_count": null,
   "metadata": {},
   "outputs": [],
   "source": [
    "import sys\n",
    "import os\n",
    "\n",
    "# 添加项目根目录到Python路径\n",
    "sys.path.append(os.path.abspath('..'))\n",
    "\n",
    "import numpy as np\n",
    "import matplotlib.pyplot as plt\n",
    "from utils.analyze_structure import analyze_ccl4_structure, select_ccl4_molecules, rotate_ccl4_molecules\n",
    "from utils import load_structure_data, copy_atom_group"
   ]
  },
  {
   "cell_type": "markdown",
   "metadata": {},
   "source": [
    "## 1. 设置分析参数"
   ]
  },
  {
   "cell_type": "code",
   "execution_count": null,
   "metadata": {},
   "outputs": [],
   "source": [
    "# 设置输入和输出目录\n",
    "input_dir = '../data/CCl4'  # 包含结构文件的目录\n",
    "output_dir = '../tmp/analysis_results'  # 输出结果的目录\n",
    "\n",
    "if not os.path.exists(output_dir):\n",
    "    os.makedirs(output_dir)\n",
    "\n",
    "# 设置参考CL原子的索引\n",
    "cl_index = 519  # 这个值需要根据实际结构文件调整\n",
    "\n",
    "# 设置其他参数\n",
    "cutoff_distance = 5.0  # 搜索附近CL原子的距离阈值\n",
    "u1, u2, modified_atoms, polar_axis = load_structure_data(input_dir)"
   ]
  },
  {
   "cell_type": "markdown",
   "metadata": {},
   "source": [
    "## 2. 执行结构分析"
   ]
  },
  {
   "cell_type": "code",
   "execution_count": null,
   "metadata": {},
   "outputs": [],
   "source": [
    "## 结构分析\n",
    "ccl4_indices = select_ccl4_molecules(u2, cl_index)\n",
    "result = analyze_ccl4_structure(\n",
    "    u=u2,\n",
    "    cl_index=cl_index,\n",
    "    polar_axis=polar_axis,\n",
    "    selected_indices=ccl4_indices\n",
    ")\n",
    "ccl4_mols = rotate_ccl4_molecules(u2, ccl4_indices, polar_axis=polar_axis)\n",
    "ccl4_mols.write(os.path.join(output_dir, 'ccl4_mols.gro'))"
   ]
  },
  {
   "cell_type": "markdown",
   "metadata": {},
   "source": [
    "## 3. 显示分析结果"
   ]
  },
  {
   "cell_type": "code",
   "execution_count": null,
   "metadata": {},
   "outputs": [],
   "source": [
    "# 打印分析结果\n",
    "print(\"\\n结构分析结果:\")\n",
    "print(f\"第一个分子中C-Cl距离: {result.dist_C_A_CL_A:.3f} Å\")\n",
    "print(f\"两个CL原子之间的距离: {result.dist_CL_A_CL_B:.3f} Å\")\n",
    "print(f\"第二个分子中C-Cl距离: {result.dist_C_B_CL_B:.3f} Å\")\n",
    "print(f\"两个C原子之间的距离: {result.dist_C_A_C_B:.3f} Å\")\n",
    "print(f\"CL-CL向量与偏振轴的夹角: {result.theta_CL_A_CL_B:.3f}°\")"
   ]
  }
 ],
 "metadata": {
  "kernelspec": {
   "display_name": "arpdf",
   "language": "python",
   "name": "python3"
  },
  "language_info": {
   "codemirror_mode": {
    "name": "ipython",
    "version": 3
   },
   "file_extension": ".py",
   "mimetype": "text/x-python",
   "name": "python",
   "nbconvert_exporter": "python",
   "pygments_lexer": "ipython3",
   "version": "3.12.9"
  }
 },
 "nbformat": 4,
 "nbformat_minor": 4
}
