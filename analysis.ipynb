{
 "cells": [
  {
   "cell_type": "code",
   "execution_count": null,
   "id": "353c5549",
   "metadata": {},
   "outputs": [],
   "source": [
    "import pickle\n",
    "import matplotlib.pyplot as plt\n",
    "from search_boxes import SearchResult\n",
    "\n",
    "with open(\"results.pkl\", \"rb\") as f:\n",
    "    results = pickle.load(f)"
   ]
  },
  {
   "cell_type": "code",
   "execution_count": null,
   "id": "5409e739",
   "metadata": {},
   "outputs": [],
   "source": [
    "similarity_values = [result.similarity for result in results.values()]\n",
    "modified_atoms = [result.modified_atoms for result in results.values()]"
   ]
  },
  {
   "cell_type": "code",
   "execution_count": null,
   "id": "08977e2f",
   "metadata": {},
   "outputs": [],
   "source": [
    "sorted_values = sorted(similarity_values, reverse=True)\n",
    "\n",
    "plt.figure(figsize=(10, 5))\n",
    "plt.bar(range(len(sorted_values)), sorted_values)\n",
    "plt.xlabel(\"Ranked Molecules\")\n",
    "plt.ylabel(\"Similarity\")\n",
    "plt.title(\"Sorted Similarity Scores\")\n",
    "plt.tight_layout()\n",
    "#plt.savefig(\"tmp/exp/sorted_similarity_barplot.png\")\n",
    "plt.show()"
   ]
  },
  {
   "cell_type": "code",
   "execution_count": null,
   "id": "831a5947",
   "metadata": {},
   "outputs": [],
   "source": [
    "print(sorted_values[0])"
   ]
  },
  {
   "cell_type": "code",
   "execution_count": null,
   "id": "e834d240",
   "metadata": {},
   "outputs": [],
   "source": [
    "pairs = list(zip(similarity_values, modified_atoms))\n",
    "\n",
    "# 排序取 top 10\n",
    "top_pairs = sorted(pairs, key=lambda x: x[0], reverse=True)[:10]\n",
    "\n",
    "# 拆分为两个列表\n",
    "top_similarities = [x[0] for x in top_pairs]\n",
    "top_atoms = [x[1] for x in top_pairs]"
   ]
  },
  {
   "cell_type": "code",
   "execution_count": null,
   "id": "4593db7d",
   "metadata": {},
   "outputs": [],
   "source": [
    "labels = ['-'.join(map(str, group)) for group in top_atoms]\n",
    "\n",
    "# 画图\n",
    "plt.figure(figsize=(10, 5))\n",
    "bars = plt.bar(range(len(top_similarities)), top_similarities, tick_label=labels)\n",
    "plt.xlabel(\"Atom Groups\")\n",
    "plt.ylabel(\"Similarity\")\n",
    "plt.title(\"Similarity of Atom Groups\")\n",
    "plt.xticks(rotation=45)  # x轴文字旋转，防止重叠\n",
    "\n",
    "# 添加数值标签\n",
    "for i, bar in enumerate(bars):\n",
    "    height = bar.get_height()\n",
    "    plt.text(bar.get_x() + bar.get_width() / 2, height + 0.01,  # 上方略微留白\n",
    "             f\"{top_similarities[i]:.2f}\",  # 保留两位小数\n",
    "             ha='center', va='bottom', fontsize=8)\n",
    "\n",
    "plt.tight_layout()\n",
    "plt.show()"
   ]
  },
  {
   "cell_type": "code",
   "execution_count": null,
   "id": "51444ea5",
   "metadata": {},
   "outputs": [],
   "source": [
    "labels = ['-'.join(map(str, group)) for group in top_atoms]\n",
    "\n",
    "# 画图\n",
    "plt.figure(figsize=(10, 5))\n",
    "plt.bar(range(len(top_similarities)), top_similarities, tick_label=labels)\n",
    "plt.xlabel(\"Atom Groups\")\n",
    "plt.ylabel(\"Similarity\")\n",
    "plt.title(\"Similarity of Atom Groups\")\n",
    "plt.xticks(rotation=45)  # x轴文字旋转，防止重叠\n",
    "plt.tight_layout()\n",
    "plt.show()"
   ]
  }
 ],
 "metadata": {
  "kernelspec": {
   "display_name": "arpdf",
   "language": "python",
   "name": "python3"
  },
  "language_info": {
   "codemirror_mode": {
    "name": "ipython",
    "version": 3
   },
   "file_extension": ".py",
   "mimetype": "text/x-python",
   "name": "python",
   "nbconvert_exporter": "python",
   "pygments_lexer": "ipython3",
   "version": "3.12.9"
  }
 },
 "nbformat": 4,
 "nbformat_minor": 5
}