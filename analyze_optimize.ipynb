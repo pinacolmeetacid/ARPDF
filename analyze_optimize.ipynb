{
 "cells": [
  {
   "cell_type": "code",
   "execution_count": null,
   "id": "55e536ff",
   "metadata": {},
   "outputs": [],
   "source": [
    "import os\n",
    "from utils import calculate_rmsd, load_structure_data, copy_atom_group, select_nbr_mols, generate_grids\n",
    "from utils.analyze_structure import select_ccl4_molecules, analyze_ccl4_structure, rotate_ccl4_molecules, select_nearest_ccl4_molecules\n",
    "from ARPDF import compare_ARPDF\n",
    "from search_boxes import save_ccl4_result\n",
    "import json\n",
    "from dataclasses import asdict\n",
    "import numpy as np\n",
    "import matplotlib.pyplot as plt\n",
    "import MDAnalysis as mda\n",
    "import pickle\n",
    "from search_boxes import SearchResult\n",
    "from typing import List, Dict"
   ]
  },
  {
   "cell_type": "code",
   "execution_count": null,
   "id": "8f3ca21a",
   "metadata": {},
   "outputs": [],
   "source": [
    "exp_dir = \"tmp/exp_opt_1D_avg_2/\"\n"
   ]
  },
  {
   "cell_type": "code",
   "execution_count": null,
   "id": "a854c6bb",
   "metadata": {},
   "outputs": [],
   "source": [
    "with open(f\"{exp_dir}/results.pkl\", \"rb\") as f:\n",
    "    results: List[SearchResult] = pickle.load(f)"
   ]
  },
  {
   "cell_type": "code",
   "execution_count": null,
   "id": "092689a8",
   "metadata": {},
   "outputs": [],
   "source": [
    "similarity_values = []\n",
    "modified_atoms = []\n",
    "for result in results:\n",
    "    similarity_values.append(result.similarity)\n",
    "    modified_atoms.append(result.modified_atoms)"
   ]
  },
  {
   "cell_type": "code",
   "execution_count": null,
   "id": "7b4f793f",
   "metadata": {},
   "outputs": [],
   "source": [
    "# 设置参考结构目录\n",
    "reference_dir = \"data/CCl4\"\n",
    "output_dir = os.path.join(exp_dir, \"post_analysis\")\n",
    "\n",
    "if not os.path.exists(output_dir):\n",
    "    os.mkdir(output_dir)\n",
    "\n",
    "# 加载参考结构\n",
    "u1_ref, u2_ref, modified_atoms_ref, polar_axis_ref = load_structure_data(reference_dir)\n",
    "ARPDF_ref = np.load(os.path.join(exp_dir, \"ARPDF_ref.npy\"))\n",
    "with open(os.path.join(exp_dir, \"metadata.json\"), \"r\") as f:\n",
    "    metadata = json.load(f)\n",
    "xy_range = metadata[\"search_info\"][\"parameters\"][\"grids_range\"]\n",
    "N, M = metadata[\"search_info\"][\"parameters\"][\"grids_shape\"]\n",
    "X, Y = generate_grids(xy_range, N, M)"
   ]
  },
  {
   "cell_type": "code",
   "execution_count": null,
   "id": "06a4d972",
   "metadata": {},
   "outputs": [],
   "source": [
    "def get_ccl4_universe(universe, ccl4_mols):\n",
    "    \"\"\"\n",
    "    Create a new universe containing only the selected CCl4 molecules\n",
    "    \"\"\"\n",
    "    selected_atoms = universe.atoms[ccl4_mols]\n",
    "    new_universe = mda.Merge(selected_atoms)\n",
    "    new_universe.dimensions = universe.dimensions\n",
    "    return new_universe"
   ]
  },
  {
   "cell_type": "code",
   "execution_count": null,
   "id": "8e133df5",
   "metadata": {},
   "outputs": [],
   "source": [
    "# Select the two CCl4 molecules by modified universe\n",
    "ccl4_mols_ref = select_ccl4_molecules(u2_ref, 519)\n",
    "# analyze the original structure of the selected CCl4 molecules\n",
    "ccl4_universe_ref = get_ccl4_universe(u2_ref, ccl4_mols_ref)\n",
    "ref_res = analyze_ccl4_structure(\n",
    "    u2_ref, 519, selected_indices=ccl4_mols_ref\n",
    ")\n",
    "print(ref_res)\n",
    "\n",
    "# rotate and save the reference structure\n",
    "nbr_indices = select_nbr_mols(u2_ref, modified_atoms_ref, nbr_distance=5.0)\n",
    "nbr_group = rotate_ccl4_molecules(u2_ref, ccl4_mols_ref, nbr_indices, polar_axis_ref)\n",
    "nbr_group.write(os.path.join(output_dir, 'ref_nbr.gro'))"
   ]
  },
  {
   "cell_type": "code",
   "execution_count": null,
   "id": "5b1b7de1",
   "metadata": {},
   "outputs": [],
   "source": [
    "# 计算每个搜索结果的RMSD\n",
    "rmsd_values: List[float] = []\n",
    "similarity_values_final: List[float] = []\n",
    "C_Cl: List[float] = []\n",
    "Cl_Cl: List[float] = []\n",
    "umbrella_angle: List[float] = []\n",
    "for i, result in enumerate(results):\n",
    "    # 获取搜索结果结构\n",
    "    u2_search = result.modified_universe\n",
    "    optimize_box = \"tmp/exp_opt_1D_avg/optimize/\"+f\"structure_{i}/\"+\"CCl4_optimized.gro\"\n",
    "    optimize_log = \"tmp/exp_opt_1D_avg/optimize/\"+f\"structure_{i}/\"+\"log.txt\"\n",
    "\n",
    "    # 获取搜索结果的CCl4分子\n",
    "    ccl4_mols_search_list = select_nearest_ccl4_molecules(u2_search, result.molecule, n_neighbors=3)\n",
    "\n",
    "    # 这次要算多个RMSD取最小\n",
    "    rmsd_candidates = []\n",
    "    u1_ref_new = mda.Universe(optimize_box)\n",
    "    for ccl4_mols_search in ccl4_mols_search_list:\n",
    "        ccl4_universe_search = get_ccl4_universe(u1_ref_new, ccl4_mols_search)\n",
    "\n",
    "        selection = [0, 1, 5, 6]  # 选定自己和邻居的C和Cl\n",
    "\n",
    "        rmsd = calculate_rmsd(ccl4_universe_search, ccl4_universe_ref, selection=selection)\n",
    "        rmsd_candidates.append(rmsd)\n",
    "\n",
    "    # 取最小值\n",
    "    min_rmsd = min(rmsd_candidates)\n",
    "    rmsd_values.append(min_rmsd)\n",
    "\n",
    "\n",
    "    analysis = analyze_ccl4_structure(\n",
    "        u1_ref_new, \n",
    "        result.modified_atoms[0], \n",
    "        selected_indices=ccl4_mols_search\n",
    "    )\n",
    "\n",
    "    Cl_Cl.append(abs(analysis.dist_CL_A_CL_B-ref_res.dist_CL_A_CL_B))\n",
    "    C_Cl.append(analysis.dist_C_A_CL_A)\n",
    "    umbrella_angle.append(analysis.umbrella_angle)\n",
    "\n",
    "\n",
    "    with open(optimize_log, 'r') as file:\n",
    "        lines = file.readlines()\n",
    "\n",
    "    # 获取最后一行并分割成列表\n",
    "    last_line = lines[-1].strip().split(',')\n",
    "\n",
    "    # 提取最后一行中的loss值\n",
    "    loss_value = float(last_line[2])\n",
    "    similarity_values_final.append(-loss_value)\n",
    "\n",
    "    print(f\"Result {i+1} RMSD: {rmsd:.3f} Å, similarity: {loss_value:.3f}\")"
   ]
  },
  {
   "cell_type": "code",
   "execution_count": null,
   "id": "dd59f8d9",
   "metadata": {},
   "outputs": [],
   "source": [
    "# 将RMSD值与相似度值进行比较\n",
    "plt.figure(figsize=(12, 6))\n",
    "plt.scatter(similarity_values_final, rmsd_values, alpha=0.6)\n",
    "plt.xlabel('Similarity')\n",
    "plt.ylabel('RMSD (Å)')\n",
    "plt.title('Relationship between Similarity and RMSD')\n",
    "\n",
    "# 添加趋势线\n",
    "z = np.polyfit(similarity_values_final, rmsd_values, 1)\n",
    "p = np.poly1d(z)\n",
    "plt.plot(similarity_values_final, p(similarity_values_final), \"r--\", alpha=0.8)\n",
    "\n",
    "plt.tight_layout()\n",
    "plt.xlim(0.7,1)\n",
    "plt.savefig(os.path.join(output_dir, 'similarity_vs_rmsd.png'))\n",
    "\n",
    "plt.show()"
   ]
  },
  {
   "cell_type": "code",
   "execution_count": null,
   "id": "e5165fc6",
   "metadata": {},
   "outputs": [],
   "source": [
    "# 将RMSD值与相似度值进行比较\n",
    "plt.figure(figsize=(12, 6))\n",
    "plt.scatter(similarity_values_final, Cl_Cl, alpha=0.6)\n",
    "plt.xlabel('Similarity')\n",
    "plt.ylabel('Cl-Cl (Å)')\n",
    "plt.title('Relationship between Similarity and Cl-Cl')\n",
    "\n",
    "# 添加趋势线\n",
    "z = np.polyfit(similarity_values_final, Cl_Cl, 1)\n",
    "p = np.poly1d(z)\n",
    "plt.plot(similarity_values_final, p(similarity_values_final), \"r--\", alpha=0.8)\n",
    "\n",
    "plt.tight_layout()\n",
    "plt.xlim(0.7,1)\n",
    "plt.savefig(os.path.join(output_dir, 'similarity_vs_ClCl.png'))\n",
    "\n",
    "plt.show()"
   ]
  },
  {
   "cell_type": "code",
   "execution_count": null,
   "id": "c5092e80",
   "metadata": {},
   "outputs": [],
   "source": [
    "pairs = list(zip(similarity_values_final, modified_atoms, rmsd_values))\n",
    "\n",
    "# 排序取 top 10\n",
    "top_pairs = sorted(pairs, key=lambda x: x[0], reverse=True)[:10]"
   ]
  },
  {
   "cell_type": "code",
   "execution_count": null,
   "id": "07920d68",
   "metadata": {},
   "outputs": [],
   "source": [
    "# 拆分为两个列表\n",
    "top_similarities = [x[0] for x in top_pairs]\n",
    "top_atoms = [x[1] for x in top_pairs]\n",
    "top_rmsd = [x[2] for x in top_pairs]"
   ]
  },
  {
   "cell_type": "code",
   "execution_count": null,
   "id": "18776e26",
   "metadata": {},
   "outputs": [],
   "source": [
    "labels = ['-'.join(map(str, group)) for group in top_atoms]\n",
    "\n",
    "# 画图\n",
    "plt.figure(figsize=(10, 5))\n",
    "bars = plt.bar(range(len(top_similarities)), top_similarities, tick_label=labels)\n",
    "plt.xlabel(\"Atom Groups\")\n",
    "plt.ylabel(\"Similarity\")\n",
    "plt.title(\"Similarity of Atom Groups\")\n",
    "plt.xticks(rotation=45)  # x轴文字旋转，防止重叠\n",
    "\n",
    "# 添加数值标签\n",
    "for i, bar in enumerate(bars):\n",
    "    height = bar.get_height()\n",
    "    plt.text(bar.get_x() + bar.get_width() / 2, height + 0.01,  # 上方略微留白\n",
    "             f\"{top_rmsd[i]:.2f}\",  # 保留两位小数\n",
    "             ha='center', va='bottom', fontsize=8)\n",
    "\n",
    "plt.tight_layout()\n",
    "plt.show()"
   ]
  },
  {
   "cell_type": "code",
   "execution_count": null,
   "id": "5d9eae90",
   "metadata": {},
   "outputs": [],
   "source": [
    "for i, result in enumerate(results):\n",
    "    if (result.molecule==313):\n",
    "        u2_search = result.modified_universe\n",
    "        optimize_box = \"tmp/exp_opt_1D_avg/optimize/\"+f\"structure_{i}/\"+f\"CCl4_optimized.gro\"\n",
    "        ccl4_mols_search = select_ccl4_molecules(u2_search, result.molecule)\n",
    "        u1_ref_new = mda.Universe(optimize_box)\n",
    "        ccl4_universe_search = get_ccl4_universe(u1_ref, ccl4_mols_search)\n",
    "        ccl4_universe_search.atoms.write('tmp/exp_opt_1D_avg/post_analysis/313_origin.gro')"
   ]
  },
  {
   "cell_type": "code",
   "execution_count": null,
   "id": "195e9f6e",
   "metadata": {},
   "outputs": [],
   "source": []
  }
 ],
 "metadata": {
  "kernelspec": {
   "display_name": "arpdf",
   "language": "python",
   "name": "python3"
  },
  "language_info": {
   "codemirror_mode": {
    "name": "ipython",
    "version": 3
   },
   "file_extension": ".py",
   "mimetype": "text/x-python",
   "name": "python",
   "nbconvert_exporter": "python",
   "pygments_lexer": "ipython3",
   "version": "3.12.9"
  }
 },
 "nbformat": 4,
 "nbformat_minor": 5
}
