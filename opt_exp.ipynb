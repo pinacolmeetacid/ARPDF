{
 "cells": [
  {
   "cell_type": "code",
   "execution_count": null,
   "metadata": {},
   "outputs": [],
   "source": [
    "%matplotlib inline"
   ]
  },
  {
   "cell_type": "code",
   "execution_count": null,
   "metadata": {},
   "outputs": [],
   "source": [
    "import MDAnalysis as mda\n",
    "import ARPDF, utils, search_boxes\n",
    "import importlib\n",
    "import matplotlib.pyplot as plt\n",
    "import torch\n",
    "importlib.reload(search_boxes)\n",
    "importlib.reload(ARPDF)\n",
    "importlib.reload(utils)\n",
    "from ARPDF import *\n",
    "from utils import *\n",
    "from search_boxes import StructureSearcher\n",
    "from ccl4_modifier import CCL4Modifier_C_CL, select_cl_atoms"
   ]
  },
  {
   "cell_type": "code",
   "execution_count": null,
   "metadata": {},
   "outputs": [],
   "source": [
    "u1, u2, modified_atoms, polar_axis = load_structure_data('data/CCl4')\n",
    "X, Y = generate_grids(10, 256)\n",
    "filter_fourier = lambda kX, kY, xp: xp.ones_like(kX)\n",
    "# filter_fourier = lambda kX, kY, xp: (1 - xp.exp(-(kX**2 / 0.3 + kY**2 / 0.1)))**3 * xp.exp(-0.08 * (kX**2 + kY**2))\n",
    "print(modified_atoms)\n",
    "sigma0 = 0.2\n",
    "neg = False\n",
    "print(f\"sigma0 = {sigma0}, neg = {neg}\")"
   ]
  },
  {
   "cell_type": "code",
   "execution_count": null,
   "metadata": {},
   "outputs": [],
   "source": [
    "ARPDF_ref = compute_ARPDF(u1, u2, N=512, cutoff=13.0, sigma0=sigma0, grids_XY=(X, Y), modified_atoms=modified_atoms, \n",
    "                        polar_axis=polar_axis, periodic=True, filter_fourier=filter_fourier, verbose=True)"
   ]
  },
  {
   "cell_type": "code",
   "execution_count": null,
   "metadata": {},
   "outputs": [],
   "source": [
    "def workflow_for_opt(\n",
    "        X, Y, ARPDF_ref, \n",
    "        filter_fourier=None, \n",
    "        sigma0=0.2, \n",
    "        exp_name: str=\"exp\", \n",
    "        metric: str=\"1D_average\", \n",
    "        weight_cutoff=5.0, \n",
    "        stretch_distances: List[float] = None,\n",
    "        neg=False\n",
    "    ):\n",
    "    \"\"\"Demo workflow for structure search and analysis\"\"\"\n",
    "    # Clean and load structure\n",
    "    clean_gro_box('data/CCl4/CCl4.gro', 'data/CCl4/CCl4_clean.gro')\n",
    "    universe = mda.Universe('data/CCl4/CCl4_clean.gro')\n",
    "    if neg:\n",
    "        ARPDF_ref = ARPDF_ref.copy()\n",
    "        ARPDF_ref[ARPDF_ref > 0] = 0\n",
    "    \n",
    "    # Initialize searcher with CCl4-specific components\n",
    "    searcher = StructureSearcher(\n",
    "        output_dir=f\"tmp/{exp_name}\",\n",
    "        universe=universe,\n",
    "        grids_XY=(X, Y),\n",
    "        ARPDF_ref=ARPDF_ref,\n",
    "        molecule_selector=select_cl_atoms,\n",
    "        structure_modifier=CCL4Modifier_C_CL(universe, stretch_distances, periodic=True),\n",
    "        filter_fourier=filter_fourier,\n",
    "        sigma0=sigma0,\n",
    "        metric=metric,\n",
    "        weight_cutoff=weight_cutoff,\n",
    "        neg=neg\n",
    "    )\n",
    "    \n",
    "    # Search and save results\n",
    "    searcher.search()\n",
    "    searcher.save_results()"
   ]
  },
  {
   "cell_type": "code",
   "execution_count": null,
   "metadata": {},
   "outputs": [],
   "source": [
    "workflow_for_opt(\n",
    "    X, Y, ARPDF_ref, \n",
    "    filter_fourier, \n",
    "    sigma0, \n",
    "    exp_name=\"exp_opt_1D_avg\", \n",
    "    metric=\"1D_average\", \n",
    "    stretch_distances=[round(1.0 + 0.1 * i, 1) for i in range(15)], \n",
    "    weight_cutoff=5.0, \n",
    "    neg=neg\n",
    ")"
   ]
  },
  {
   "cell_type": "code",
   "execution_count": null,
   "metadata": {},
   "outputs": [],
   "source": [
    "workflow_for_opt(\n",
    "    X, Y, ARPDF_ref, \n",
    "    filter_fourier, \n",
    "    sigma0, \n",
    "    exp_name=\"exp_opt_cosine\", \n",
    "    metric=\"cosine\", \n",
    "    stretch_distances=[round(1.0 + 0.1 * i, 1) for i in range(15)], \n",
    "    weight_cutoff=5.0, \n",
    "    neg=neg\n",
    ")"
   ]
  }
 ],
 "metadata": {
  "kernelspec": {
   "display_name": "arpdf",
   "language": "python",
   "name": "python3"
  },
  "language_info": {
   "codemirror_mode": {
    "name": "ipython",
    "version": 3
   },
   "file_extension": ".py",
   "mimetype": "text/x-python",
   "name": "python",
   "nbconvert_exporter": "python",
   "pygments_lexer": "ipython3",
   "version": "3.12.9"
  }
 },
 "nbformat": 4,
 "nbformat_minor": 2
}
